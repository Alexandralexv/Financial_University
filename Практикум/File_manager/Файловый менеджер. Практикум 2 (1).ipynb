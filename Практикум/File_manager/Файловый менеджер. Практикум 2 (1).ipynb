{
 "cells": [
  {
   "cell_type": "code",
   "execution_count": 1,
   "id": "55c895ca",
   "metadata": {},
   "outputs": [],
   "source": [
    "import os # функции для взаимодействия с операционной системой\n",
    "import shutil # операции над файлами и директориями"
   ]
  },
  {
   "cell_type": "code",
   "execution_count": 2,
   "id": "3001fb50",
   "metadata": {},
   "outputs": [],
   "source": [
    "def create_folder(folder_name): # новая папка\n",
    "    try:\n",
    "        os.mkdir(folder_name) # новая папка с именем\n",
    "        print(f\"Папка '{folder_name}' успешно создана.\")\n",
    "    except FileExistsError: # обрабатывает исключение FileExistsError, возникающее, если папка с таким именем уже существует\n",
    "        print(f\"Папка '{folder_name}' уже существует.\")\n",
    "\n",
    "def delete_folder(folder_name):\n",
    "    try:\n",
    "        os.rmdir(folder_name)\n",
    "        print(f\"Папка '{folder_name}' успешно удалена.\")\n",
    "    except FileNotFoundError:\n",
    "        print(f\"Папка '{folder_name}' не найдена.\")\n",
    "    except OSError:\n",
    "        print(f\"Невозможно удалить '{folder_name}'. Папка не пуста.\")\n",
    "\n",
    "def move_to_folder(folder_name): # переместить в папку\n",
    "    try:\n",
    "        os.chdir(folder_name)\n",
    "        print(f\"Перешли в папку '{folder_name}'. Текущая директория: {os.getcwd()}\")\n",
    "    except FileNotFoundError:\n",
    "        print(f\"Папка '{folder_name}' не найдена.\")\n",
    "\n",
    "def create_file(file_name): \n",
    "    try:\n",
    "        with open(file_name, 'w') as file:\n",
    "            print(f\"Файл '{file_name}' успешно создан.\")\n",
    "    except FileExistsError:\n",
    "        print(f\"Файл '{file_name}' уже существует.\")\n",
    "\n",
    "def write_to_file(file_name, text): \n",
    "    try:\n",
    "        with open(file_name, 'a') as file:\n",
    "            file.write(text + '\\n')\n",
    "            print(f\"Текст успешно записан в файл '{file_name}'.\")\n",
    "    except FileNotFoundError:\n",
    "        print(f\"Файл '{file_name}' не найден.\")\n",
    "\n",
    "def view_file(file_name): \n",
    "    try:\n",
    "        with open(file_name, 'r') as file:\n",
    "            content = file.read()\n",
    "            print(f\"Содержимое файла '{file_name}':\\n{content}\")\n",
    "    except FileNotFoundError:\n",
    "        print(f\"Файл '{file_name}' не найден.\")\n",
    "\n",
    "def delete_file(file_name): \n",
    "    try:\n",
    "        os.remove(file_name)\n",
    "        print(f\"Файл '{file_name}' успешно удален.\")\n",
    "    except FileNotFoundError:\n",
    "        print(f\"Файл '{file_name}' не найден.\")\n",
    "\n",
    "def copy_file(source, destination): \n",
    "    try:\n",
    "        shutil.copy2(source, destination)\n",
    "        print(f\"Файл '{source}' успешно скопирован в '{destination}'.\")\n",
    "    except FileNotFoundError:\n",
    "        print(f\"Файл '{source}' не найден.\")\n",
    "\n",
    "def move_file(source, destination): \n",
    "    try:\n",
    "        shutil.move(source, destination)\n",
    "        print(f\"Файл '{source}' успешно перемещен в '{destination}'.\")\n",
    "    except FileNotFoundError:\n",
    "        print(f\"Файл '{source}' не найден.\")\n",
    "\n",
    "def rename_file(old_name, new_name): \n",
    "    try:\n",
    "        os.rename(old_name, new_name)\n",
    "        print(f\"Файл '{old_name}' успешно переименован в '{new_name}'.\")\n",
    "    except FileNotFoundError:\n",
    "        print(f\"Файл '{old_name}' не найден.\")\n",
    "\n"
   ]
  },
  {
   "cell_type": "code",
   "execution_count": 3,
   "id": "766ae23c",
   "metadata": {},
   "outputs": [
    {
     "name": "stdout",
     "output_type": "stream",
     "text": [
      "Папка 'example_folder' успешно создана.\n"
     ]
    }
   ],
   "source": [
    "# Создаем папку\n",
    "create_folder(\"example_folder\")"
   ]
  },
  {
   "cell_type": "code",
   "execution_count": 4,
   "id": "166c7022",
   "metadata": {},
   "outputs": [
    {
     "name": "stdout",
     "output_type": "stream",
     "text": [
      "Перешли в папку 'example_folder'. Текущая директория: C:\\Users\\Саша\\Downloads\\example_folder\n"
     ]
    }
   ],
   "source": [
    "# Переходим в созданную папку\n",
    "move_to_folder(\"example_folder\")"
   ]
  },
  {
   "cell_type": "code",
   "execution_count": 5,
   "id": "8f511739",
   "metadata": {},
   "outputs": [
    {
     "name": "stdout",
     "output_type": "stream",
     "text": [
      "Файл 'example.txt' успешно создан.\n",
      "Текст успешно записан в файл 'example.txt'.\n"
     ]
    }
   ],
   "source": [
    "# Создаем файл и записываем в него текст\n",
    "create_file(\"example.txt\")\n",
    "write_to_file(\"example.txt\", \"Пример текста в файле\")"
   ]
  },
  {
   "cell_type": "code",
   "execution_count": 6,
   "id": "e4f0a837",
   "metadata": {},
   "outputs": [
    {
     "name": "stdout",
     "output_type": "stream",
     "text": [
      "Содержимое файла 'example.txt':\n",
      "Пример текста в файле\n",
      "\n"
     ]
    }
   ],
   "source": [
    "# Просматриваем содержимое файла\n",
    "view_file(\"example.txt\")"
   ]
  },
  {
   "cell_type": "code",
   "execution_count": 7,
   "id": "d7e48282",
   "metadata": {},
   "outputs": [
    {
     "name": "stdout",
     "output_type": "stream",
     "text": [
      "Файл 'example.txt' успешно скопирован в '../backup_folder'.\n"
     ]
    }
   ],
   "source": [
    "# Копируем файл в другую папку\n",
    "copy_file(\"example.txt\", \"../backup_folder\")"
   ]
  },
  {
   "cell_type": "code",
   "execution_count": 8,
   "id": "49376f91",
   "metadata": {},
   "outputs": [
    {
     "name": "stdout",
     "output_type": "stream",
     "text": [
      "Файл 'example.txt' успешно переименован в 'renamed_example.txt'.\n"
     ]
    }
   ],
   "source": [
    "# Переименовываем файл\n",
    "rename_file(\"example.txt\", \"renamed_example.txt\")"
   ]
  },
  {
   "cell_type": "code",
   "execution_count": 9,
   "id": "d3bbb3d9",
   "metadata": {},
   "outputs": [
    {
     "name": "stdout",
     "output_type": "stream",
     "text": [
      "Файл 'renamed_example.txt' успешно удален.\n"
     ]
    }
   ],
   "source": [
    "# Удаляем файл\n",
    "delete_file(\"renamed_example.txt\")"
   ]
  },
  {
   "cell_type": "code",
   "execution_count": 10,
   "id": "96118560",
   "metadata": {},
   "outputs": [
    {
     "name": "stdout",
     "output_type": "stream",
     "text": [
      "Перешли в папку '..'. Текущая директория: C:\\Users\\Саша\\Downloads\n"
     ]
    }
   ],
   "source": [
    "# Выходим на уровень вверх\n",
    "move_to_folder(\"..\")\n"
   ]
  },
  {
   "cell_type": "code",
   "execution_count": 11,
   "id": "bbd89b32",
   "metadata": {},
   "outputs": [
    {
     "name": "stdout",
     "output_type": "stream",
     "text": [
      "Папка 'example_folder' успешно удалена.\n"
     ]
    }
   ],
   "source": [
    "# Удаляем созданную папку\n",
    "delete_folder(\"example_folder\")"
   ]
  },
  {
   "cell_type": "code",
   "execution_count": 12,
   "id": "a160fa65",
   "metadata": {},
   "outputs": [
    {
     "name": "stdout",
     "output_type": "stream",
     "text": [
      "Файл 'backup_folder' успешно удален.\n"
     ]
    }
   ],
   "source": [
    "# Удаляем файл\n",
    "delete_file(\"backup_folder\")"
   ]
  },
  {
   "cell_type": "code",
   "execution_count": null,
   "id": "1fd691d9",
   "metadata": {},
   "outputs": [],
   "source": []
  }
 ],
 "metadata": {
  "kernelspec": {
   "display_name": "Python 3 (ipykernel)",
   "language": "python",
   "name": "python3"
  },
  "language_info": {
   "codemirror_mode": {
    "name": "ipython",
    "version": 3
   },
   "file_extension": ".py",
   "mimetype": "text/x-python",
   "name": "python",
   "nbconvert_exporter": "python",
   "pygments_lexer": "ipython3",
   "version": "3.11.4"
  }
 },
 "nbformat": 4,
 "nbformat_minor": 5
}
